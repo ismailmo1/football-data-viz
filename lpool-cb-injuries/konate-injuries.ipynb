{
 "cells": [
  {
   "cell_type": "code",
   "execution_count": 1,
   "metadata": {},
   "outputs": [],
   "source": [
    "import pandas as pd\n",
    "import requests\n",
    "import bs4\n",
    "from typing import List, Dict\n"
   ]
  },
  {
   "cell_type": "markdown",
   "metadata": {},
   "source": [
    "# fbref.com"
   ]
  },
  {
   "cell_type": "markdown",
   "metadata": {},
   "source": [
    "Get match urls"
   ]
  },
  {
   "cell_type": "code",
   "execution_count": 2,
   "metadata": {},
   "outputs": [],
   "source": [
    "def get_team_matches(team_id, season:str)->List[Dict[str, str|bool]]:\n",
    "    fbref_url = f'https://fbref.com/en/squads/{team_id}/{season}/all_comps/'\n",
    "    fb_ref = requests.get(fbref_url)\n",
    "    soup = bs4.BeautifulSoup(fb_ref.text)\n",
    "    tables = soup.find_all(\"table\")\n",
    "    match_table = tables[5]\n",
    "    match_links = [t['href'] for t in match_table.find_all(\"a\") if '/en/matches/' in t['href']]\n",
    "\n",
    "    matches =[]\n",
    "\n",
    "    for idx, rw in enumerate(match_table.find_all(\"tr\")):\n",
    "        try:\n",
    "            match_date = rw.find(\"th\").text\n",
    "            competition = rw.find(\"td\",{\"data-stat\":\"comp\"}).text\n",
    "            home = rw.find(\"td\",{\"data-stat\":\"venue\"}).text =='Home'\n",
    "            opponent = rw.find(\"td\",{\"data-stat\":\"opponent\"}).text\n",
    "            try:\n",
    "                link = rw.find(\"th\").find(\"a\")['href']\n",
    "            except TypeError:\n",
    "                link = None\n",
    "            match = {\"date\":match_date, \"competition\":competition, \n",
    "                        \"is_home\":home, \"opponent\":opponent, \"link\":link }\n",
    "            matches.append(match)\n",
    "        except AttributeError:\n",
    "            continue\n",
    "    return matches"
   ]
  },
  {
   "cell_type": "markdown",
   "metadata": {},
   "source": [
    "Get match lineups"
   ]
  },
  {
   "cell_type": "code",
   "execution_count": 3,
   "metadata": {},
   "outputs": [],
   "source": [
    "def get_match_lineups(match_id:str)->(List[str],List[str]):\n",
    "    fbref_url = 'https://fbref.com/en/matches/' + match_id\n",
    "    fb_ref = requests.get(fbref_url)\n",
    "    soup = bs4.BeautifulSoup(fb_ref.text)\n",
    "    tables = soup.find_all(\"table\")\n",
    "\n",
    "    df = pd.read_html(str(tables[0]))[0]\n",
    "    bench_idx = df[df.iloc[:,0]=='Bench'].index[0]\n",
    "    bench_lineup = df.loc[bench_idx+1:, :]\n",
    "    starting_lineup = df.loc[:bench_idx-1:, :]\n",
    "    starting_lineup = starting_lineup.iloc[:,1]\n",
    "    bench_lineup = bench_lineup.iloc[:,1]\n",
    "    return [*starting_lineup], [*bench_lineup]"
   ]
  },
  {
   "cell_type": "code",
   "execution_count": 4,
   "metadata": {},
   "outputs": [],
   "source": [
    "def get_player_matches(player_id:str, season:str)->pd.DataFrame:\n",
    "    \"\"\"season should be in format like: '2022-2023'\"\"\"\n",
    "    fbref_url = f\"https://fbref.com/en/players/{player_id}/matchlogs/{season}/\"\n",
    "    fb_ref = requests.get(fbref_url)\n",
    "    soup = bs4.BeautifulSoup(fb_ref.text)\n",
    "    tables = soup.find_all(\"table\")\n",
    "\n",
    "    df = pd.read_html(str(tables[0]))[0]\n",
    "    df= df.droplevel(0, axis=1)\n",
    "    df['Min'] = df['Min'].replace(\"On matchday squad, but did not play\", 0)\n",
    "    df.dropna(axis=0, inplace=True)\n",
    "    df.replace(\"On matchday squad, but did not play\", None, inplace=True)\n",
    "    keep_cols = ['Date', 'Comp', 'Squad', 'Opponent',\n",
    "        'Start', 'Min']\n",
    "    return df[keep_cols]\n"
   ]
  },
  {
   "cell_type": "code",
   "execution_count": 5,
   "metadata": {},
   "outputs": [],
   "source": [
    "def get_playing_time(team_id, player_id, season):\n",
    "    liverpool_matches = get_team_matches(team_id, season)\n",
    "    player_matches = get_player_matches(player_id,season)\n",
    "    player_games_df = pd.DataFrame(liverpool_matches).merge(player_matches, left_on='date', right_on='Date', how='left')\n",
    "\n",
    "    # games without a link haven't been played yet (postponed or future date)\n",
    "    player_games_df.dropna(subset=['link'], inplace=True)\n",
    "    player_games_df.drop('Date', inplace=True, axis=1)\n",
    "\n",
    "    return player_games_df"
   ]
  },
  {
   "cell_type": "code",
   "execution_count": 12,
   "metadata": {},
   "outputs": [
    {
     "data": {
      "text/html": [
       "<div>\n",
       "<style scoped>\n",
       "    .dataframe tbody tr th:only-of-type {\n",
       "        vertical-align: middle;\n",
       "    }\n",
       "\n",
       "    .dataframe tbody tr th {\n",
       "        vertical-align: top;\n",
       "    }\n",
       "\n",
       "    .dataframe thead th {\n",
       "        text-align: right;\n",
       "    }\n",
       "</style>\n",
       "<table border=\"1\" class=\"dataframe\">\n",
       "  <thead>\n",
       "    <tr style=\"text-align: right;\">\n",
       "      <th></th>\n",
       "      <th>date</th>\n",
       "      <th>competition</th>\n",
       "      <th>is_home</th>\n",
       "      <th>opponent</th>\n",
       "      <th>link</th>\n",
       "      <th>Comp</th>\n",
       "      <th>Squad</th>\n",
       "      <th>Opponent</th>\n",
       "      <th>Start</th>\n",
       "      <th>Min</th>\n",
       "    </tr>\n",
       "  </thead>\n",
       "  <tbody>\n",
       "    <tr>\n",
       "      <th>0</th>\n",
       "      <td>2021-08-14</td>\n",
       "      <td>Premier League</td>\n",
       "      <td>False</td>\n",
       "      <td>Norwich City</td>\n",
       "      <td>/en/matches/c52500ad/Norwich-City-Liverpool-Au...</td>\n",
       "      <td>Premier League</td>\n",
       "      <td>Liverpool</td>\n",
       "      <td>Norwich City</td>\n",
       "      <td>N</td>\n",
       "      <td>0</td>\n",
       "    </tr>\n",
       "    <tr>\n",
       "      <th>1</th>\n",
       "      <td>2021-08-21</td>\n",
       "      <td>Premier League</td>\n",
       "      <td>True</td>\n",
       "      <td>Burnley</td>\n",
       "      <td>/en/matches/94d9dac0/Liverpool-Burnley-August-...</td>\n",
       "      <td>Premier League</td>\n",
       "      <td>Liverpool</td>\n",
       "      <td>Burnley</td>\n",
       "      <td>N</td>\n",
       "      <td>0</td>\n",
       "    </tr>\n",
       "    <tr>\n",
       "      <th>2</th>\n",
       "      <td>2021-08-28</td>\n",
       "      <td>Premier League</td>\n",
       "      <td>True</td>\n",
       "      <td>Chelsea</td>\n",
       "      <td>/en/matches/78aa75e6/Liverpool-Chelsea-August-...</td>\n",
       "      <td>Premier League</td>\n",
       "      <td>Liverpool</td>\n",
       "      <td>Chelsea</td>\n",
       "      <td>N</td>\n",
       "      <td>0</td>\n",
       "    </tr>\n",
       "    <tr>\n",
       "      <th>3</th>\n",
       "      <td>2021-09-12</td>\n",
       "      <td>Premier League</td>\n",
       "      <td>False</td>\n",
       "      <td>Leeds United</td>\n",
       "      <td>/en/matches/e6a245be/Leeds-United-Liverpool-Se...</td>\n",
       "      <td>Premier League</td>\n",
       "      <td>Liverpool</td>\n",
       "      <td>Leeds United</td>\n",
       "      <td>N</td>\n",
       "      <td>0</td>\n",
       "    </tr>\n",
       "    <tr>\n",
       "      <th>4</th>\n",
       "      <td>2021-09-15</td>\n",
       "      <td>Champions Lg</td>\n",
       "      <td>True</td>\n",
       "      <td>it Milan</td>\n",
       "      <td>/en/matches/ff3e4ae2/Liverpool-Milan-September...</td>\n",
       "      <td>Champions Lg</td>\n",
       "      <td>eng Liverpool</td>\n",
       "      <td>it Milan</td>\n",
       "      <td>N</td>\n",
       "      <td>0</td>\n",
       "    </tr>\n",
       "  </tbody>\n",
       "</table>\n",
       "</div>"
      ],
      "text/plain": [
       "        date     competition  is_home      opponent  \\\n",
       "0 2021-08-14  Premier League    False  Norwich City   \n",
       "1 2021-08-21  Premier League     True       Burnley   \n",
       "2 2021-08-28  Premier League     True       Chelsea   \n",
       "3 2021-09-12  Premier League    False  Leeds United   \n",
       "4 2021-09-15    Champions Lg     True      it Milan   \n",
       "\n",
       "                                                link            Comp  \\\n",
       "0  /en/matches/c52500ad/Norwich-City-Liverpool-Au...  Premier League   \n",
       "1  /en/matches/94d9dac0/Liverpool-Burnley-August-...  Premier League   \n",
       "2  /en/matches/78aa75e6/Liverpool-Chelsea-August-...  Premier League   \n",
       "3  /en/matches/e6a245be/Leeds-United-Liverpool-Se...  Premier League   \n",
       "4  /en/matches/ff3e4ae2/Liverpool-Milan-September...    Champions Lg   \n",
       "\n",
       "           Squad      Opponent Start Min  \n",
       "0      Liverpool  Norwich City     N   0  \n",
       "1      Liverpool       Burnley     N   0  \n",
       "2      Liverpool       Chelsea     N   0  \n",
       "3      Liverpool  Leeds United     N   0  \n",
       "4  eng Liverpool      it Milan     N   0  "
      ]
     },
     "execution_count": 12,
     "metadata": {},
     "output_type": "execute_result"
    }
   ],
   "source": [
    "liverpool_id = '822bd0ba'\n",
    "konate_id = \"5ed9b537\"\n",
    "\n",
    "konate_playing_time2223 = get_playing_time(liverpool_id, konate_id, '2022-2023')\n",
    "konate_playing_time2122 = get_playing_time(liverpool_id, konate_id, '2021-2022')\n",
    "konate_all_liverpool_df = pd.concat([konate_playing_time2122,konate_playing_time2223])\n",
    "konate_all_liverpool_df['date'] = pd.to_datetime(konate_all_liverpool_df['date'])\n",
    "\n",
    "konate_all_liverpool_df.head()\n"
   ]
  }
 ],
 "metadata": {
  "kernelspec": {
   "display_name": "Python 3.10.6 ('venv': venv)",
   "language": "python",
   "name": "python3"
  },
  "language_info": {
   "codemirror_mode": {
    "name": "ipython",
    "version": 3
   },
   "file_extension": ".py",
   "mimetype": "text/x-python",
   "name": "python",
   "nbconvert_exporter": "python",
   "pygments_lexer": "ipython3",
   "version": "3.10.6"
  },
  "orig_nbformat": 4,
  "vscode": {
   "interpreter": {
    "hash": "5fabb696dc8dfa4041ad5d328bb16d17a9fcb2b882043e04446c36cea3ef38fe"
   }
  }
 },
 "nbformat": 4,
 "nbformat_minor": 2
}
